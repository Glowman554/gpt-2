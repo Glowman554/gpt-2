{
  "cells": [
    {
      "cell_type": "code",
      "execution_count": null,
      "metadata": {
        "id": "c2KevgKqhafx"
      },
      "outputs": [],
      "source": [
        "# initial setup stuff here\n",
        "\n",
        "!git clone https://github.com/Glowman554/gpt-2\n",
        "\n",
        "import os\n",
        "\n",
        "if not os.getcwd().__contains__(\"gpt-2\"):\n",
        "  GPT2_DIR = os.path.join(os.getcwd(), \"gpt-2\")\n",
        "  os.chdir(GPT2_DIR)\n",
        "\n",
        "!sudo pip3 install -r requirements.txt\n",
        "!python3 model/download_pretrained.py 124M"
      ]
    },
    {
      "cell_type": "code",
      "execution_count": null,
      "metadata": {
        "id": "l8GkLPu8nXas"
      },
      "outputs": [],
      "source": [
        "from pathlib import Path\n",
        "from shutil import copyfile\n",
        "\n",
        "def read_latest_model(path):\n",
        "  with open(path + \"/checkpoint\") as f:\n",
        "    checkpoint_data = f.read()\n",
        "\n",
        "    curr_model = None\n",
        "\n",
        "    for i in checkpoint_data.split(\"\\n\"):\n",
        "      checkpoint_entry = i.split(\": \")\n",
        "      if checkpoint_entry[0].strip() == \"model_checkpoint_path\":\n",
        "        curr_model = checkpoint_entry[1].strip().replace(\"\\\"\", \"\")\n",
        "\n",
        "    return curr_model\n",
        "\n",
        "def copy_file_same_same(_from, _to, file):\n",
        "  copyfile(_from + \"/\" + file, _to + \"/\" + file)  \n",
        "\n",
        "def copy_latest_model(_from, _to):\n",
        "   Path(_to).mkdir(parents=True, exist_ok=True)\n",
        "   curr_model = read_latest_model(_from)\n",
        "\n",
        "   copy_file_same_same(_from, _to, \"counter\")\n",
        "   copy_file_same_same(_from, _to, f\"{curr_model}.data-00000-of-00001\")\n",
        "   copy_file_same_same(_from, _to, f\"{curr_model}.index\")\n",
        "   copy_file_same_same(_from, _to, f\"{curr_model}.meta\")\n",
        "\n",
        "   with open(_to + \"/checkpoint\", \"w\") as f:\n",
        "    f.write(f\"model_checkpoint_path: \\\"{curr_model}\\\"\")"
      ]
    },
    {
      "cell_type": "code",
      "execution_count": null,
      "metadata": {
        "id": "FJTiTRYUkKK4"
      },
      "outputs": [],
      "source": [
        "from google.colab import drive\n",
        "drive.mount('/gdrive')\n",
        "\n",
        "model_name = input(\"Model to load >\")\n",
        "\n",
        "copy_latest_model(\"/gdrive/My Drive/\" + model_name, \"checkpoint/run1/\")\n",
        "\n",
        "drive.flush_and_unmount()"
      ]
    },
    {
      "cell_type": "code",
      "execution_count": null,
      "metadata": {
        "id": "8qSwy5r_p8-v"
      },
      "outputs": [],
      "source": [
        "from google.colab import files\n",
        "uploaded = files.upload()\n",
        "\n",
        "for i in uploaded:\n",
        "  try:\n",
        "    copyfile(i, \"dataset.txt\")\n",
        "    os.remove(i)\n",
        "  except:\n",
        "    pass"
      ]
    },
    {
      "cell_type": "code",
      "execution_count": null,
      "metadata": {
        "id": "YwgBxff2q1e-"
      },
      "outputs": [],
      "source": [
        "!python3 model/encoder.py dataset.txt dataset.npz"
      ]
    },
    {
      "cell_type": "code",
      "execution_count": null,
      "metadata": {
        "id": "u2FEp5bbzoFY"
      },
      "outputs": [],
      "source": [
        "!python3 model/train.py --dataset dataset.npz --save_every 1000 --sample_every 1000 --sample_num 1"
      ]
    },
    {
      "cell_type": "code",
      "execution_count": null,
      "metadata": {
        "id": "cqTaCaVPrH64"
      },
      "outputs": [],
      "source": [
        "!python3 model/interact.py"
      ]
    },
    {
      "cell_type": "code",
      "execution_count": null,
      "metadata": {},
      "outputs": [],
      "source": [
        "!python3 model/interact.py --unconditional"
      ]
    },
    {
      "cell_type": "code",
      "execution_count": null,
      "metadata": {
        "id": "vPX0ceUyprqj"
      },
      "outputs": [],
      "source": [
        "from google.colab import drive\n",
        "drive.mount('/gdrive')\n",
        "\n",
        "model_name = input(\"Model to save >\")\n",
        "\n",
        "copy_latest_model( \"checkpoint/run1/\", \"/gdrive/My Drive/\" + model_name)\n",
        "\n",
        "drive.flush_and_unmount()"
      ]
    }
  ],
  "metadata": {
    "accelerator": "GPU",
    "colab": {
      "collapsed_sections": [],
      "name": "gpt-2.ipynb",
      "private_outputs": true,
      "provenance": []
    },
    "kernelspec": {
      "display_name": "Python 3",
      "name": "python3"
    },
    "language_info": {
      "name": "python"
    }
  },
  "nbformat": 4,
  "nbformat_minor": 0
}
